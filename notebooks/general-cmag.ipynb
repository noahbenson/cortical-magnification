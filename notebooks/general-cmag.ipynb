{
 "cells": [
  {
   "cell_type": "markdown",
   "id": "4f979070",
   "metadata": {},
   "source": [
    "# Cortical Magnification"
   ]
  },
  {
   "cell_type": "markdown",
   "id": "60912cbb",
   "metadata": {},
   "source": [
    "## Introduction"
   ]
  },
  {
   "cell_type": "markdown",
   "id": "d5db1757",
   "metadata": {},
   "source": [
    "### Dependencies"
   ]
  },
  {
   "cell_type": "code",
   "execution_count": null,
   "id": "61fab56f",
   "metadata": {},
   "outputs": [],
   "source": [
    "import os, sys, pimms, pandas, warnings\n",
    "from pathlib import Path\n",
    "from functools import reduce, partial\n",
    "\n",
    "import numpy as np\n",
    "import scipy as sp\n",
    "import nibabel as nib\n",
    "import neuropythy as ny\n",
    "\n",
    "import matplotlib as mpl\n",
    "import matplotlib.pyplot as plt\n",
    "import ipyvolume as ipv\n",
    "import torch"
   ]
  },
  {
   "cell_type": "markdown",
   "id": "0ec4038f",
   "metadata": {},
   "source": [
    "### Dependency Initialization"
   ]
  },
  {
   "cell_type": "code",
   "execution_count": null,
   "id": "3187e4da",
   "metadata": {},
   "outputs": [],
   "source": [
    "# Additional matplotlib preferences:\n",
    "font_data = {'family':'sans-serif',\n",
    "             'sans-serif':['HelveticaNeue', 'Helvetica', 'Arial'],\n",
    "             'size': 10,\n",
    "             'weight': 'light'}\n",
    "mpl.rc('font',**font_data)\n",
    "# we want relatively high-res images, especially when saving to disk.\n",
    "mpl.rcParams['figure.dpi'] = 72*2\n",
    "mpl.rcParams['savefig.dpi'] = 72*4\n",
    "mpl.rcParams['axes.unicode_minus'] = False"
   ]
  },
  {
   "cell_type": "markdown",
   "id": "85d717e5",
   "metadata": {},
   "source": [
    "### Data Loading"
   ]
  },
  {
   "cell_type": "code",
   "execution_count": null,
   "id": "efb008b9",
   "metadata": {},
   "outputs": [],
   "source": [
    "def subdata(sid, h,\n",
    "            vdpath='/data/crcns2021/results/proc/labels/mean',\n",
    "            cachepath='/data/crowding/hcp-cmag',\n",
    "            overwrite=False):\n",
    "    cachefile = Path(cachepath) / f'{h}.{sid}.npy'\n",
    "    if overwrite or not cachefile.is_file():\n",
    "        sub = ny.data['hcp_lines'].subjects[sid]\n",
    "        hem = sub.hemis[h]\n",
    "        lbl = np.array(hem.prop('visual_area'))\n",
    "        vdpath = Path(vdpath) / str(sid)\n",
    "        vpath = vdpath / f'{h}.ventral_label.mgz'\n",
    "        dpath = vdpath / f'{h}.dorsal_label.mgz'\n",
    "        if not vpath.is_file():\n",
    "            raise RuntimeError(f\"ventral file not found for subject {sid}/{h}\")\n",
    "        if not dpath.is_file():\n",
    "            raise RuntimeError(f\"dorsal file not found for subject {sid}/{h}\")\n",
    "        vlbl = ny.load(str(vpath))\n",
    "        dlbl = ny.load(str(dpath))\n",
    "        ii = (lbl == 0)\n",
    "        lbl[ii] = vlbl[ii]\n",
    "        ii = (lbl == 0)\n",
    "        lbl[ii] = dlbl[ii]\n",
    "        nz = (lbl > 0)\n",
    "        x = hem.prop('prf_x')\n",
    "        y = hem.prop('prf_y')\n",
    "        r = hem.prop('prf_radius')\n",
    "        t = hem.prop('prf_polar_angle')\n",
    "        e = hem.prop('prf_eccentricity')\n",
    "        w = hem.prop('prf_variance_explained')\n",
    "        a = hem.prop('midgray_surface_area')\n",
    "        rows = np.stack([lbl, x, y, r, t, e, a, w], axis=0, dtype=np.float32)\n",
    "        dat = rows[:, nz]\n",
    "        np.save(cachefile, dat)\n",
    "    rows = np.load(cachefile)\n",
    "    (lbl, x, y, r, t, e, a, w) = rows\n",
    "    return dict(\n",
    "        label=lbl,\n",
    "        x=x, y=y, sigma=r,\n",
    "        polar_angle=t, eccentricity=e,\n",
    "        surface_area=a,\n",
    "        cod=w)"
   ]
  },
  {
   "cell_type": "markdown",
   "id": "7c25ced5",
   "metadata": {},
   "source": [
    "## Fitting Functions"
   ]
  },
  {
   "cell_type": "markdown",
   "id": "6408074c",
   "metadata": {},
   "source": [
    "### Fitting C.Mag. Models"
   ]
  },
  {
   "cell_type": "markdown",
   "id": "5af67084",
   "metadata": {},
   "source": [
    "#### Method of Cumulative Surface Area"
   ]
  },
  {
   "cell_type": "code",
   "execution_count": null,
   "id": "bc93608e",
   "metadata": {},
   "outputs": [],
   "source": [
    "def fit_cmag_cumecc(prf_x, prf_y, surface_areas, formfn, params0,\n",
    "                    method=None,\n",
    "                    lossfn='mse',\n",
    "                    weights=None,\n",
    "                    argtx=None):\n",
    "    from scipy.optimize import minimize\n",
    "    prf_x = np.asarray(prf_x)\n",
    "    prf_y = np.asarray(prf_y)\n",
    "    sarea = np.asarray(surface_areas)\n",
    "    eccen = np.hypot(prf_x, prf_y)\n",
    "    ii = np.argsort(eccen)\n",
    "    sarea = sarea[ii]\n",
    "    eccen = eccen[ii]\n",
    "    cumsa = np.cumsum(sarea)\n",
    "    if argtx is None:\n",
    "        argtx = (lambda a:a, lambda a:a)\n",
    "    if lossfn == 'rss':\n",
    "        def lossfn(gold, pred):\n",
    "            return np.sum((gold - pred)**2)\n",
    "    elif lossfn == 'mse':\n",
    "        if weights is None:\n",
    "            def lossfn(gold, pred):\n",
    "                return np.mean((gold - pred)**2)\n",
    "        else:\n",
    "            wsum = np.sum(weights)\n",
    "            def lossfn(gold, pred):\n",
    "                return np.sum(weights * (gold - pred)**2) / wsum\n",
    "    def stepfn(params):\n",
    "        return lossfn(cumsa, formfn(eccen, *argtx[1](params)))\n",
    "    params0 = argtx[0](params0)\n",
    "    r = minimize(stepfn, params0, method=method)\n",
    "    r.x = argtx[1](r.x)\n",
    "    return r\n",
    "\n",
    "def fitall_cmag_cumecc(data, formfn, params0,\n",
    "                       method=None,\n",
    "                       lossfn='mse',\n",
    "                       weights=None,\n",
    "                       argtx=None,\n",
    "                       filter=None,\n",
    "                       labels=None):\n",
    "    kw = dict(method=method, lossfn=lossfn, argtx=argtx)\n",
    "    if not filter:\n",
    "        filter = lambda dat: True\n",
    "    if labels is None:\n",
    "        labels = np.arange(1,11)\n",
    "    result = {}\n",
    "    for (sid, sdata) in data.items():\n",
    "        sres = []\n",
    "        for hdata in sdata:\n",
    "            hres = []\n",
    "            for lbl in labels:\n",
    "                ii = filter(hdata) & (hdata['label'] == lbl)\n",
    "                if np.sum(ii) < 5:\n",
    "                    r = None\n",
    "                else:\n",
    "                    weights = None if not weights else hdata[weights][ii]\n",
    "                    r = fit_cmag_cumecc(\n",
    "                        hdata['x'][ii],\n",
    "                        hdata['y'][ii],\n",
    "                        hdata['surface_area'][ii],\n",
    "                        formfn,\n",
    "                        params0,\n",
    "                        weights=weights,\n",
    "                        **kw)\n",
    "                hres.append(r)\n",
    "            sres.append(tuple(hres))\n",
    "        result[sid] = tuple(sres)\n",
    "    return result\n",
    "\n",
    "def filt_base(subdat, maxecc=7):\n",
    "    return (subdat['eccentricity'] < maxecc)\n",
    "def filt_wedge(subdat, minangle, maxangle):\n",
    "    ang = subdat['polar_angle']\n",
    "    return filt_base(subdat) & (ang >= minangle) & (ang <= maxangle)\n",
    "def filt_ring(subdat, minecc, maxecc):\n",
    "    ecc = subdat['eccentricity']\n",
    "    return filt_base(subdat) & (ecc >= minecc) & (ecc <= maxecc)\n",
    "def filt_sect(subdat, minang, maxang, minecc, maxecc):\n",
    "    return (\n",
    "        filt_base(subdat) &\n",
    "        filt_wedge(subdat, minang, maxang) & \n",
    "        filt_ring(subdat, minecc, maxecc))"
   ]
  },
  {
   "cell_type": "markdown",
   "id": "75a56ef8",
   "metadata": {},
   "source": [
    "### C.Mag Model Forms"
   ]
  },
  {
   "cell_type": "markdown",
   "id": "de3c71c2",
   "metadata": {},
   "source": [
    "#### Horton & Hoyt Functions"
   ]
  },
  {
   "cell_type": "code",
   "execution_count": null,
   "id": "195a1064",
   "metadata": {},
   "outputs": [],
   "source": [
    "def HH91(x, a=17.3, b=0.75):\n",
    "    return (a / (x + b))**2\n",
    "\n",
    "def HH91_integral(x, a=17.3, b=0.75):\n",
    "    xb = x + b\n",
    "    return a**2 * np.pi * (np.log(xb / b) - x / xb)\n",
    "\n",
    "def HH91_c1(totalarea, b=0.75, maxecc=7):\n",
    "    mb = maxecc + b\n",
    "    return np.sqrt(totalarea / np.pi / (np.log(mb / b) - maxecc/mb))\n",
    "\n",
    "HH91_argtx = (np.sqrt, lambda x: np.array(x)**2)"
   ]
  },
  {
   "cell_type": "markdown",
   "id": "b837cded",
   "metadata": {},
   "source": [
    "#### Beta Functions"
   ]
  },
  {
   "cell_type": "code",
   "execution_count": null,
   "id": "086cd02c",
   "metadata": {},
   "outputs": [],
   "source": [
    "from scipy.stats import beta\n",
    "\n",
    "def beta_form(x, a, b, maxecc=7):\n",
    "    return beta.cdf(x / maxecc, a, b)\n",
    "\n",
    "def beta_loss(gold, pred):\n",
    "    return np.mean((gold/np.max(gold) - pred)**2)\n",
    "\n",
    "beta_argtx = (np.sqrt, lambda x: np.array(x)**2)"
   ]
  },
  {
   "cell_type": "markdown",
   "id": "1e029375",
   "metadata": {},
   "source": [
    "## Loading Data"
   ]
  },
  {
   "cell_type": "code",
   "execution_count": null,
   "id": "767229a3",
   "metadata": {},
   "outputs": [],
   "source": [
    "# The subject IDs.\n",
    "sids = np.setdiff1d(\n",
    "    ny.data['hcp_lines'].subject_list,\n",
    "    [r[0] for r in ny.data['hcp_lines'].exclusions if r[0] != 'mean'])\n",
    "\n",
    "# The data for each subject.\n",
    "data = {\n",
    "    sid: (subdata(sid, 'lh'), subdata(sid, 'rh'))\n",
    "    for sid in sids}\n",
    "\n",
    "# The HCP visual areas have a max eccentricity of about 7°.\n",
    "maxecc = 7"
   ]
  },
  {
   "cell_type": "markdown",
   "id": "2d62fd8c",
   "metadata": {},
   "source": [
    "## Fitting"
   ]
  },
  {
   "cell_type": "code",
   "execution_count": null,
   "id": "2e39ec65",
   "metadata": {},
   "outputs": [],
   "source": [
    "# Fitting beta functions; should take ~2-3 minutes to run.\n",
    "#\n",
    "# To fit only wedges (like the upper vertical meridian), we can use the\n",
    "#   filter=lambda dat: filt_wedge(dat, -15, 15).\n",
    "# For lower vertical this would be more like:\n",
    "#   filter=lambda dat: filt_wedge(dat, 165, 180) | filt_wedge(dat, -180, -165)\n",
    "#\n",
    "# Keep in mind that the polar_angle data uses 0° as the upper vertical meridian,\n",
    "# +90° as the right horizontal meridian, -90° as the left horizontal meridian,\n",
    "# and ±180° as the lower vertical meridian.\n",
    "\n",
    "fits = fitall_cmag_cumecc(\n",
    "    data, beta_form, [1, 3],\n",
    "    lossfn=beta_loss,\n",
    "    filter=filt_base,\n",
    "    argtx=beta_argtx)"
   ]
  },
  {
   "cell_type": "markdown",
   "id": "3e777dd0",
   "metadata": {},
   "source": [
    "### Plotting a Subject's Fits"
   ]
  },
  {
   "cell_type": "code",
   "execution_count": null,
   "id": "f745120b",
   "metadata": {},
   "outputs": [],
   "source": [
    "sid = 111312\n",
    "\n",
    "(fig, axs) = plt.subplots(4,2, figsize=(7,7), dpi=288, sharex=True, sharey=True)\n",
    "fig.subplots_adjust(0,0,1,1,0.15,0.1)\n",
    "subdat = data[sid]\n",
    "subfit = fits[sid]\n",
    "\n",
    "for (ii,axcol) in enumerate(axs.T):\n",
    "    hdat = subdat[ii]\n",
    "    hfit = subfit[ii]\n",
    "    for (lbl,fit,ax) in zip([1,2,3,4], hfit, axcol):\n",
    "        ii = hdat['label'] == lbl\n",
    "        ecc = hdat['eccentricity'][ii]\n",
    "        sar = hdat['surface_area'][ii]\n",
    "        ii = np.argsort(ecc)\n",
    "        cum = np.cumsum(sar[ii])\n",
    "        ecc = ecc[ii]\n",
    "        ax.plot(ecc, cum, 'k-', lw=0.5)\n",
    "        pre = cum[-1] * beta_form(ecc, *fit.x)\n",
    "        ax.plot(ecc, pre, 'r-', lw=0.5)\n",
    "        ax.fill_between(ecc, cum, pre, color='r', alpha=0.2)\n",
    "\n",
    "for ax in axs.flat:\n",
    "    ax.spines['top'].set_visible(False)\n",
    "    ax.spines['right'].set_visible(False)\n",
    "    ax.set_xlim([0,8])\n",
    "for ax in axs[:,0]:\n",
    "    ax.set_ylabel(r'Cum. Surface Area [cm$^2$]')\n",
    "for ax in axs[-1]:\n",
    "    ax.set_xlabel('Eccentricity [deg]')\n",
    "\n",
    "plt.show()"
   ]
  },
  {
   "cell_type": "markdown",
   "id": "08f843f6",
   "metadata": {},
   "source": [
    "### Plotting Beta Parameters for all Subjects"
   ]
  },
  {
   "cell_type": "code",
   "execution_count": null,
   "id": "d35f2226",
   "metadata": {
    "scrolled": false
   },
   "outputs": [],
   "source": [
    "allparams = np.array(\n",
    "    [tuple(\n",
    "         np.stack([fit.x for fit in hfit])\n",
    "         for hfit in sfit)\n",
    "     for sfit in fits.values()])\n",
    "\n",
    "(fig,axs) = plt.subplots(4,2, figsize=(4,8), dpi=288, sharex=True, sharey=True)\n",
    "fig.subplots_adjust(0,0,1,1,0.15,0.1)\n",
    "\n",
    "for (hii,axcol) in enumerate(axs.T):\n",
    "    for (lbl,ax) in zip([1,2,3,4], axcol):\n",
    "        (x,y) = allparams[:, hii, lbl-1, :].T\n",
    "        ax.plot(x, y, 'ko', ms=0.5, alpha=0.5)\n",
    "\n",
    "for ax in axs.flat:\n",
    "    ax.spines['top'].set_visible(False)\n",
    "    ax.spines['right'].set_visible(False)\n",
    "    ax.set_xlim([0,2])\n",
    "    ax.set_ylim([0,4])\n",
    "for ax in axs[:,0]:\n",
    "    ax.set_ylabel(r'$\\beta$')\n",
    "for ax in axs[-1]:\n",
    "    ax.set_xlabel(r'$\\alpha$')\n",
    "\n",
    "plt.show()"
   ]
  }
 ],
 "metadata": {
  "kernelspec": {
   "display_name": "Python Jupyter Kernel",
   "language": "python",
   "name": "python3"
  },
  "language_info": {
   "codemirror_mode": {
    "name": "ipython",
    "version": 3
   },
   "file_extension": ".py",
   "mimetype": "text/x-python",
   "name": "python",
   "nbconvert_exporter": "python",
   "pygments_lexer": "ipython3",
   "version": "3.10.15"
  }
 },
 "nbformat": 4,
 "nbformat_minor": 5
}
